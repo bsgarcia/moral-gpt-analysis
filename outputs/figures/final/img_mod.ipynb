{
 "cells": [
  {
   "cell_type": "code",
   "execution_count": 2,
   "metadata": {},
   "outputs": [
    {
     "name": "stdout",
     "output_type": "stream",
     "text": [
      "Image with margins saved at: P:\\CodeProjects\\Current\\moral-gpt-analysis\\outputs\\figures\\final\\fig4_trim.png\n",
      "Image with margins saved at: P:\\CodeProjects\\Current\\moral-gpt-analysis\\outputs\\figures\\final\\fig5_trim.png\n",
      "Image with margins saved at: P:\\CodeProjects\\Current\\moral-gpt-analysis\\outputs\\figures\\final\\fig1_trim.png\n",
      "Image with margins saved at: P:\\CodeProjects\\Current\\moral-gpt-analysis\\outputs\\figures\\final\\fig2_trim.png\n",
      "Image with margins saved at: P:\\CodeProjects\\Current\\moral-gpt-analysis\\outputs\\figures\\final\\fig6_trim.png\n",
      "Image with margins saved at: P:\\CodeProjects\\Current\\moral-gpt-analysis\\outputs\\figures\\final\\fig4_trim_trim.png\n",
      "Image with margins saved at: P:\\CodeProjects\\Current\\moral-gpt-analysis\\outputs\\figures\\final\\fig5_trim_trim.png\n",
      "Image with margins saved at: P:\\CodeProjects\\Current\\moral-gpt-analysis\\outputs\\figures\\final\\fig1_trim_trim.png\n",
      "Image with margins saved at: P:\\CodeProjects\\Current\\moral-gpt-analysis\\outputs\\figures\\final\\fig2_trim_trim.png\n",
      "Image with margins saved at: P:\\CodeProjects\\Current\\moral-gpt-analysis\\outputs\\figures\\final\\fig6_trim_trim.png\n"
     ]
    }
   ],
   "source": [
    "from PIL import Image, ImageOps, ImageChops\n",
    "\n",
    "\n",
    "def trim(im):\n",
    "    bg = Image.new(im.mode, im.size, im.getpixel((0,0)))\n",
    "    diff = ImageChops.difference(im, bg)\n",
    "    diff = ImageChops.add(diff, diff, 2.0, -100)\n",
    "    #Bounding box given as a 4-tuple defining the left, upper, right, and lower pixel coordinates.\n",
    "    #If the image is completely empty, this method returns None.\n",
    "    bbox = diff.getbbox()\n",
    "    if bbox:\n",
    "        \n",
    "        add_margin(im.crop(bbox), im.filename.replace('.png', '') + \"_trim.png\",\n",
    "            top=100,\n",
    "            right=100,\n",
    "            bottom=100,\n",
    "            left=100\n",
    "        )\n",
    "\n",
    "        # im.crop(bbox).save(im.filename + \"_trim.png\")\n",
    "\n",
    "\n",
    "def add_margin(img, output_path, top=0, right=0, bottom=0, left=0):\n",
    "    \"\"\"\n",
    "    Adds white margins around the image.\n",
    "\n",
    "    Args:\n",
    "        image_path (str): Path to the input image.\n",
    "        output_path (str): Path to save the image with added margins.\n",
    "        top (int): Margin to add to the top of the image.\n",
    "        right (int): Margin to add to the right of the image.\n",
    "        bottom (int): Margin to add to the bottom of the image.\n",
    "        left (int): Margin to add to the left of the image.\n",
    "    \"\"\"\n",
    "    \n",
    "    # Create new image with larger size and white background\n",
    "    new_width = img.width + left + right\n",
    "    new_height = img.height + top + bottom\n",
    "    new_img = Image.new(\"RGB\", (new_width, new_height), (255, 255, 255))  # white background\n",
    "    \n",
    "    # Paste the original image in the center of the new canvas\n",
    "    new_img.paste(img, (left, top))\n",
    "    \n",
    "    new_img.save(output_path)\n",
    "    print(f\"Image with margins saved at: {output_path}\")\n",
    "\n",
    "# Example usage:\n",
    "# files = [f'final\\\\fig{i}' for i in range(1, 7)]\n",
    "\n",
    "import os\n",
    "for f in os.listdir('./'):\n",
    "    if not f.endswith('.png'):\n",
    "        continue\n",
    "    ff = f\n",
    "    try:\n",
    "        trim(Image.open(ff))\n",
    "    except FileNotFoundError:\n",
    "        print(f'{ff} not found')\n",
    "    # add_margin('trimmed_output.png', 'output_with_margins.png', top=10, right=20, bottom=10, left=20)\n"
   ]
  },
  {
   "cell_type": "code",
   "execution_count": 20,
   "metadata": {},
   "outputs": [],
   "source": [
    "def trim(im):\n",
    "    bg = Image.new(im.mode, im.size, im.getpixel((0,0)))\n",
    "    diff = ImageChops.difference(im, bg)\n",
    "    diff = ImageChops.add(diff, diff, 2.0, -100)\n",
    "    #Bounding box given as a 4-tuple defining the left, upper, right, and lower pixel coordinates.\n",
    "    #If the image is completely empty, this method returns None.\n",
    "    bbox = diff.getbbox()\n",
    "    if bbox:\n",
    "        im.crop(bbox).save(im.filename + \"_trim.png\")\n",
    "\n",
    "bg = Image.open(\"\") # The image to be cropped\n",
    "new_im = trim(bg)\n",
    "new_im.show()"
   ]
  }
 ],
 "metadata": {
  "kernelspec": {
   "display_name": "Python 3",
   "language": "python",
   "name": "python3"
  },
  "language_info": {
   "codemirror_mode": {
    "name": "ipython",
    "version": 3
   },
   "file_extension": ".py",
   "mimetype": "text/x-python",
   "name": "python",
   "nbconvert_exporter": "python",
   "pygments_lexer": "ipython3",
   "version": "3.9.12"
  }
 },
 "nbformat": 4,
 "nbformat_minor": 2
}
